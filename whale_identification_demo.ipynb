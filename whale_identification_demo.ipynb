{
 "cells": [
  {
   "cell_type": "markdown",
   "metadata": {},
   "source": [
    "# Download repository (necessary)"
   ]
  },
  {
   "cell_type": "markdown",
   "metadata": {},
   "source": [
    "## https://github.com/ReBachtr/whale_identification"
   ]
  },
  {
   "cell_type": "markdown",
   "metadata": {},
   "source": [
    "# Download data (not necessary)"
   ]
  },
  {
   "cell_type": "markdown",
   "metadata": {},
   "source": [
    "### Download data from https://www.kaggle.com/c/humpback-whale-identification/data\n"
   ]
  },
  {
   "cell_type": "markdown",
   "metadata": {},
   "source": [
    "### Follow the instruction of https://github.com/Kaggle/kaggle-api, then implement the following code"
   ]
  },
  {
   "cell_type": "code",
   "execution_count": null,
   "metadata": {},
   "outputs": [],
   "source": [
    "! kaggle competitions download -c humpback-whale-identification"
   ]
  },
  {
   "cell_type": "code",
   "execution_count": null,
   "metadata": {},
   "outputs": [],
   "source": [
    "! unzip -n train.zip -d ./whaletrain"
   ]
  },
  {
   "cell_type": "code",
   "execution_count": null,
   "metadata": {},
   "outputs": [],
   "source": [
    "! python3 split_to_testset.py -i ./whaletrain -c test.csv -o ./whaletest"
   ]
  },
  {
   "cell_type": "markdown",
   "metadata": {},
   "source": [
    "# Install packages"
   ]
  },
  {
   "cell_type": "code",
   "execution_count": 1,
   "metadata": {},
   "outputs": [
    {
     "name": "stdout",
     "output_type": "stream",
     "text": [
      "Requirement already satisfied: albumentations in /Applications/anaconda3/lib/python3.7/site-packages (0.2.3)\n",
      "Requirement already satisfied: imgaug<0.2.7,>=0.2.5 in /Applications/anaconda3/lib/python3.7/site-packages (from albumentations) (0.2.6)\n",
      "Requirement already satisfied: scipy in /Applications/anaconda3/lib/python3.7/site-packages (from albumentations) (1.1.0)\n",
      "Requirement already satisfied: numpy>=1.11.1 in /Applications/anaconda3/lib/python3.7/site-packages (from albumentations) (1.15.4)\n",
      "Requirement already satisfied: opencv-python-headless in /Applications/anaconda3/lib/python3.7/site-packages (from albumentations) (4.1.0.25)\n",
      "Requirement already satisfied: six in /Applications/anaconda3/lib/python3.7/site-packages (from imgaug<0.2.7,>=0.2.5->albumentations) (1.12.0)\n",
      "Requirement already satisfied: scikit-image>=0.11.0 in /Applications/anaconda3/lib/python3.7/site-packages (from imgaug<0.2.7,>=0.2.5->albumentations) (0.14.1)\n",
      "Requirement already satisfied: matplotlib>=2.0.0 in /Applications/anaconda3/lib/python3.7/site-packages (from scikit-image>=0.11.0->imgaug<0.2.7,>=0.2.5->albumentations) (3.0.2)\n",
      "Requirement already satisfied: networkx>=1.8 in /Applications/anaconda3/lib/python3.7/site-packages (from scikit-image>=0.11.0->imgaug<0.2.7,>=0.2.5->albumentations) (2.2)\n",
      "Requirement already satisfied: pillow>=4.3.0 in /Applications/anaconda3/lib/python3.7/site-packages (from scikit-image>=0.11.0->imgaug<0.2.7,>=0.2.5->albumentations) (5.3.0)\n",
      "Requirement already satisfied: PyWavelets>=0.4.0 in /Applications/anaconda3/lib/python3.7/site-packages (from scikit-image>=0.11.0->imgaug<0.2.7,>=0.2.5->albumentations) (1.0.1)\n",
      "Requirement already satisfied: dask[array]>=0.9.0 in /Applications/anaconda3/lib/python3.7/site-packages (from scikit-image>=0.11.0->imgaug<0.2.7,>=0.2.5->albumentations) (1.0.0)\n",
      "Requirement already satisfied: cloudpickle>=0.2.1 in /Applications/anaconda3/lib/python3.7/site-packages (from scikit-image>=0.11.0->imgaug<0.2.7,>=0.2.5->albumentations) (0.6.1)\n",
      "Requirement already satisfied: cycler>=0.10 in /Applications/anaconda3/lib/python3.7/site-packages (from matplotlib>=2.0.0->scikit-image>=0.11.0->imgaug<0.2.7,>=0.2.5->albumentations) (0.10.0)\n",
      "Requirement already satisfied: kiwisolver>=1.0.1 in /Applications/anaconda3/lib/python3.7/site-packages (from matplotlib>=2.0.0->scikit-image>=0.11.0->imgaug<0.2.7,>=0.2.5->albumentations) (1.0.1)\n",
      "Requirement already satisfied: pyparsing!=2.0.4,!=2.1.2,!=2.1.6,>=2.0.1 in /Applications/anaconda3/lib/python3.7/site-packages (from matplotlib>=2.0.0->scikit-image>=0.11.0->imgaug<0.2.7,>=0.2.5->albumentations) (2.3.0)\n",
      "Requirement already satisfied: python-dateutil>=2.1 in /Applications/anaconda3/lib/python3.7/site-packages (from matplotlib>=2.0.0->scikit-image>=0.11.0->imgaug<0.2.7,>=0.2.5->albumentations) (2.7.5)\n",
      "Requirement already satisfied: decorator>=4.3.0 in /Applications/anaconda3/lib/python3.7/site-packages (from networkx>=1.8->scikit-image>=0.11.0->imgaug<0.2.7,>=0.2.5->albumentations) (4.3.0)\n",
      "Requirement already satisfied: toolz>=0.7.3; extra == \"array\" in /Applications/anaconda3/lib/python3.7/site-packages (from dask[array]>=0.9.0->scikit-image>=0.11.0->imgaug<0.2.7,>=0.2.5->albumentations) (0.9.0)\n",
      "Requirement already satisfied: setuptools in /Applications/anaconda3/lib/python3.7/site-packages (from kiwisolver>=1.0.1->matplotlib>=2.0.0->scikit-image>=0.11.0->imgaug<0.2.7,>=0.2.5->albumentations) (40.6.3)\n",
      "Requirement already satisfied: pretrainedmodels in /Applications/anaconda3/lib/python3.7/site-packages (0.7.4)\n",
      "Requirement already satisfied: torchvision in /Applications/anaconda3/lib/python3.7/site-packages (from pretrainedmodels) (0.2.2)\n",
      "Requirement already satisfied: torch in /Applications/anaconda3/lib/python3.7/site-packages (from pretrainedmodels) (1.0.1.post2)\n",
      "Requirement already satisfied: tqdm in /Applications/anaconda3/lib/python3.7/site-packages (from pretrainedmodels) (4.28.1)\n",
      "Requirement already satisfied: munch in /Applications/anaconda3/lib/python3.7/site-packages (from pretrainedmodels) (2.3.2)\n",
      "Requirement already satisfied: numpy in /Applications/anaconda3/lib/python3.7/site-packages (from torchvision->pretrainedmodels) (1.15.4)\n",
      "Requirement already satisfied: six in /Applications/anaconda3/lib/python3.7/site-packages (from torchvision->pretrainedmodels) (1.12.0)\n",
      "Requirement already satisfied: pillow>=4.1.1 in /Applications/anaconda3/lib/python3.7/site-packages (from torchvision->pretrainedmodels) (5.3.0)\n"
     ]
    }
   ],
   "source": [
    "! pip install albumentations --user \n",
    "! pip install pretrainedmodels --user "
   ]
  },
  {
   "cell_type": "code",
   "execution_count": 2,
   "metadata": {},
   "outputs": [],
   "source": [
    "import numpy as np \n",
    "import pandas as pd \n",
    "import matplotlib.pyplot as plt\n",
    "import matplotlib.image as mplimg\n",
    "from matplotlib.pyplot import imshow\n",
    "from sklearn.preprocessing import LabelEncoder\n",
    "from sklearn.preprocessing import OneHotEncoder\n",
    "import torch\n",
    "from torch.utils.data import TensorDataset, DataLoader,Dataset\n",
    "import torch.nn as nn\n",
    "import torch.nn.functional as F\n",
    "import torchvision\n",
    "import torchvision.transforms as transforms\n",
    "import torch.optim as optim\n",
    "from torch.optim import lr_scheduler\n",
    "import time \n",
    "import tqdm\n",
    "from PIL import Image\n",
    "train_on_gpu = True\n",
    "from torch.utils.data.sampler import SubsetRandomSampler\n",
    "from torch.optim.lr_scheduler import StepLR, ReduceLROnPlateau, CosineAnnealingLR\n",
    "import warnings\n",
    "warnings.simplefilter(\"ignore\", category=DeprecationWarning)\n",
    "from collections import OrderedDict\n",
    "import cv2\n",
    "import albumentations\n",
    "from albumentations import torch as AT\n",
    "import pretrainedmodels\n",
    "import csv\n",
    "from sklearn.neighbors import KNeighborsClassifier\n",
    "from torch.autograd import Variable\n",
    "from torchvision.utils import save_image\n",
    "from sklearn.externals import joblib\n",
    "from sklearn.svm import LinearSVC\n",
    "from torchvision import models"
   ]
  },
  {
   "cell_type": "code",
   "execution_count": 3,
   "metadata": {},
   "outputs": [
    {
     "name": "stdout",
     "output_type": "stream",
     "text": [
      "cpu\n"
     ]
    }
   ],
   "source": [
    "device = 'cuda' if torch.cuda.is_available() else 'cpu'\n",
    "print(device)"
   ]
  },
  {
   "cell_type": "markdown",
   "metadata": {},
   "source": [
    "# Data"
   ]
  },
  {
   "cell_type": "code",
   "execution_count": 4,
   "metadata": {},
   "outputs": [
    {
     "data": {
      "text/html": [
       "<div>\n",
       "<style scoped>\n",
       "    .dataframe tbody tr th:only-of-type {\n",
       "        vertical-align: middle;\n",
       "    }\n",
       "\n",
       "    .dataframe tbody tr th {\n",
       "        vertical-align: top;\n",
       "    }\n",
       "\n",
       "    .dataframe thead th {\n",
       "        text-align: right;\n",
       "    }\n",
       "</style>\n",
       "<table border=\"1\" class=\"dataframe\">\n",
       "  <thead>\n",
       "    <tr style=\"text-align: right;\">\n",
       "      <th></th>\n",
       "      <th>Image</th>\n",
       "      <th>Id</th>\n",
       "    </tr>\n",
       "  </thead>\n",
       "  <tbody>\n",
       "    <tr>\n",
       "      <th>0</th>\n",
       "      <td>b4284d5ef.jpg</td>\n",
       "      <td>w_16b5050</td>\n",
       "    </tr>\n",
       "    <tr>\n",
       "      <th>1</th>\n",
       "      <td>4b82a9fc0.jpg</td>\n",
       "      <td>new_whale</td>\n",
       "    </tr>\n",
       "    <tr>\n",
       "      <th>2</th>\n",
       "      <td>16bf136fb.jpg</td>\n",
       "      <td>w_e73cce3</td>\n",
       "    </tr>\n",
       "    <tr>\n",
       "      <th>3</th>\n",
       "      <td>9805abc71.jpg</td>\n",
       "      <td>w_d6fde02</td>\n",
       "    </tr>\n",
       "    <tr>\n",
       "      <th>4</th>\n",
       "      <td>4e2803603.jpg</td>\n",
       "      <td>w_83a4279</td>\n",
       "    </tr>\n",
       "  </tbody>\n",
       "</table>\n",
       "</div>"
      ],
      "text/plain": [
       "           Image         Id\n",
       "0  b4284d5ef.jpg  w_16b5050\n",
       "1  4b82a9fc0.jpg  new_whale\n",
       "2  16bf136fb.jpg  w_e73cce3\n",
       "3  9805abc71.jpg  w_d6fde02\n",
       "4  4e2803603.jpg  w_83a4279"
      ]
     },
     "execution_count": 4,
     "metadata": {},
     "output_type": "execute_result"
    }
   ],
   "source": [
    "train_df = pd.read_csv(\"./train.csv\")\n",
    "test_df = pd.read_csv(\"./demo_test.csv\")\n",
    "train_df.head()"
   ]
  },
  {
   "cell_type": "code",
   "execution_count": 5,
   "metadata": {},
   "outputs": [
    {
     "name": "stdout",
     "output_type": "stream",
     "text": [
      "There are 20288 images in train dataset with 4571 unique classes.\n",
      "There are 1015 images in test dataset with 454 unique classes.\n"
     ]
    }
   ],
   "source": [
    "print(f\"There are {len(os.listdir('./whaletrain'))} images in train dataset with {train_df.Id.nunique()} unique classes.\")\n",
    "print(f\"There are {len(os.listdir('./demotest'))} images in test dataset with {test_df.Id.nunique()} unique classes.\")"
   ]
  },
  {
   "cell_type": "code",
   "execution_count": 6,
   "metadata": {},
   "outputs": [
    {
     "data": {
      "image/png": "[encoded data removed]",
      "text/plain": [
       "<Figure size 432x288 with 1 Axes>"
      ]
     },
     "metadata": {
      "needs_background": "light"
     },
     "output_type": "display_data"
    }
   ],
   "source": [
    "train_df.Id.value_counts()[1:].plot(kind = 'hist');\n",
    "plt.title('Whale Classes Distrubution');"
   ]
  },
  {
   "cell_type": "code",
   "execution_count": 7,
   "metadata": {},
   "outputs": [
    {
     "name": "stderr",
     "output_type": "stream",
     "text": [
      "/opt/conda/lib/python3.6/site-packages/sklearn/preprocessing/_encoders.py:371: FutureWarning: The handling of integer data will change in version 0.22. Currently, the categories are determined based on the range [0, max(values)], while in the future they will be determined based on the unique values.\n",
      "If you want the future behaviour and silence this warning, you can specify \"categories='auto'\".\n",
      "In case you used a LabelEncoder before this OneHotEncoder to convert the categories to integers, then you can now use the OneHotEncoder directly.\n",
      "  warnings.warn(msg, FutureWarning)\n",
      "/opt/conda/lib/python3.6/site-packages/sklearn/preprocessing/_encoders.py:371: FutureWarning: The handling of integer data will change in version 0.22. Currently, the categories are determined based on the range [0, max(values)], while in the future they will be determined based on the unique values.\n",
      "If you want the future behaviour and silence this warning, you can specify \"categories='auto'\".\n",
      "In case you used a LabelEncoder before this OneHotEncoder to convert the categories to integers, then you can now use the OneHotEncoder directly.\n",
      "  warnings.warn(msg, FutureWarning)\n"
     ]
    }
   ],
   "source": [
    "def prepare_labels(y):\n",
    "    # one_hot the label(Id)\n",
    "    values = np.array(y)\n",
    "    label_encoder = LabelEncoder()\n",
    "    integer_encoded = label_encoder.fit_transform(values)\n",
    "\n",
    "    onehot_encoder = OneHotEncoder(sparse=False)\n",
    "    integer_encoded = integer_encoded.reshape(len(integer_encoded), 1)\n",
    "    onehot_encoded = onehot_encoder.fit_transform(integer_encoded)\n",
    "    y = onehot_encoded\n",
    "    \n",
    "    return y, label_encoder\n",
    "\n",
    "y, le = prepare_labels(train_df['Id'])\n",
    "y_ts, le_ts = prepare_labels(test_df['Id'])"
   ]
  },
  {
   "cell_type": "markdown",
   "metadata": {},
   "source": [
    "# Data Loader"
   ]
  },
  {
   "cell_type": "code",
   "execution_count": 23,
   "metadata": {},
   "outputs": [],
   "source": [
    "class WhaleDataset(Dataset):\n",
    "    def __init__(self, datafolder, datatype='train', df=None, transform = transforms.Compose([transforms.ToTensor()]), y=None):\n",
    "        self.datafolder = datafolder\n",
    "        self.datatype = datatype\n",
    "        self.y = y\n",
    "        if self.datatype == 'train':\n",
    "            self.df = df.values\n",
    "        self.image_files_list = [s for s in os.listdir(datafolder)]\n",
    "        self.transform = transform\n",
    "\n",
    "    def __len__(self):\n",
    "        return len(self.image_files_list)\n",
    "    \n",
    "    def __getitem__(self, idx):\n",
    "        if self.datatype == 'train':\n",
    "            img_name = os.path.join(self.datafolder, self.df[idx - 1][0])\n",
    "            label = self.y[idx - 1]\n",
    "            \n",
    "        elif self.datatype == 'test':\n",
    "            img_name = os.path.join(self.datafolder, self.image_files_list[idx - 1])\n",
    "            label = np.zeros((4571,))\n",
    "\n",
    "        image = Image.open(img_name).convert('RGB')\n",
    "        image = self.transform(image)\n",
    "        if self.datatype == 'train':\n",
    "            return image, label\n",
    "        elif self.datatype == 'test':\n",
    "            return image, label, self.image_files_list[idx]\n",
    "        "
   ]
  },
  {
   "cell_type": "code",
   "execution_count": 24,
   "metadata": {},
   "outputs": [],
   "source": [
    "data_transforms = transforms.Compose([\n",
    "                                      transforms.Resize((100, 100)),\n",
    "                                      transforms.ToTensor(),\n",
    "                                      transforms.Normalize(mean=[0.485, 0.456, 0.406],\n",
    "                                                             std=[0.229, 0.224, 0.225])\n",
    "    ])\n",
    "data_transforms_test = transforms.Compose([\n",
    "                                           transforms.Resize((100, 100)),\n",
    "                                           transforms.ToTensor(),\n",
    "                                           transforms.Normalize(mean=[0.485, 0.456, 0.406],\n",
    "                                                                 std=[0.229, 0.224, 0.225])\n",
    "])\n"
   ]
  },
  {
   "cell_type": "code",
   "execution_count": 25,
   "metadata": {},
   "outputs": [],
   "source": [
    "test_set = WhaleDataset(datafolder='./whaletest/', datatype='train', df=test_df, transform=data_transforms_test,y = y_ts)\n",
    "batch_size = 32\n",
    "num_workers = 0\n",
    "test_loader = torch.utils.data.DataLoader(test_set, batch_size=32, num_workers=num_workers)"
   ]
  },
  {
   "cell_type": "code",
   "execution_count": 55,
   "metadata": {},
   "outputs": [
    {
     "data": {
      "text/plain": [
       "0.4669950738916256"
      ]
     },
     "execution_count": 55,
     "metadata": {},
     "output_type": "execute_result"
    }
   ],
   "source": [
    "k = 0\n",
    "for i in range(len(test_df.values)):\n",
    "    if test_df.values[i][1] == 'new_whale':\n",
    "        k+=1\n",
    "k/len(test_df)"
   ]
  },
  {
   "cell_type": "markdown",
   "metadata": {},
   "source": [
    "# Predict with trained model"
   ]
  },
  {
   "cell_type": "markdown",
   "metadata": {},
   "source": [
    "## Simple CNN"
   ]
  },
  {
   "cell_type": "code",
   "execution_count": 26,
   "metadata": {},
   "outputs": [],
   "source": [
    "class Net(nn.Module):\n",
    "    def __init__(self):\n",
    "        super(Net, self).__init__()\n",
    "        self.conv1 = nn.Conv2d(3, 32, 7, padding=1)\n",
    "        self.conv2_bn = nn.BatchNorm2d(32)\n",
    "        self.pool = nn.MaxPool2d(2, 2)\n",
    "        \n",
    "        self.conv2 = nn.Conv2d(32, 64, 3, padding=1)        \n",
    "        self.pool2 = nn.AvgPool2d(3, 3)\n",
    "        \n",
    "        self.fc1 = nn.Linear(64 * 4 * 4 * 16, 1024)\n",
    "        self.fc2 = nn.Linear(1024, 4571) \n",
    "\n",
    "        self.dropout = nn.Dropout(0.5)        \n",
    "\n",
    "    def forward(self, x):\n",
    "        x = self.pool(F.relu(self.conv2_bn(self.conv1(x))))\n",
    "        x = self.pool2(F.relu(self.conv2(x)))\n",
    "        x = x.view(-1, 64 * 4 * 4 * 16)\n",
    "        x = F.relu(self.fc1(x))\n",
    "        x = self.dropout(x)\n",
    "        x = self.fc2(x)\n",
    "\n",
    "        return x"
   ]
  },
  {
   "cell_type": "code",
   "execution_count": 29,
   "metadata": {},
   "outputs": [],
   "source": [
    "model_conv = Net()\n",
    "criterion = nn.BCEWithLogitsLoss()\n",
    "optimizer = optim.Adam(model_conv.parameters(), lr=0.01)\n",
    "exp_lr_scheduler = lr_scheduler.StepLR(optimizer, step_size=3, gamma=0.1)\n",
    "model_conv.load_state_dict(torch.load('./model/Simple_cnn.pth'))"
   ]
  },
  {
   "cell_type": "code",
   "execution_count": 34,
   "metadata": {},
   "outputs": [
    {
     "name": "stdout",
     "output_type": "stream",
     "text": [
      "acc : 0.4676724137931034\n"
     ]
    }
   ],
   "source": [
    "model_conv.cuda()\n",
    "total = list(0. for i in range(test_df.Id.nunique()))\n",
    "correct = list(0. for i in range(test_df.Id.nunique()))\n",
    "\n",
    "accuracy = []\n",
    "    \n",
    "# Compute the test result\n",
    "cont = 0\n",
    "for batch_i, (data, target) in enumerate(test_loader):\n",
    "    data, target = data.cuda(), target.cuda()\n",
    "    cont += 1\n",
    "    if cont >= 30:\n",
    "        break\n",
    "    optimizer.zero_grad()\n",
    "    output = model_conv(data)\n",
    "    predicted = torch.argmax(output, 1)\n",
    "\n",
    "    res = (predicted == torch.argmax(target, 1)).squeeze()\n",
    "\n",
    "    for label_idx in range(len(target)):\n",
    "\n",
    "        label_single = torch.argmax(target, 1)[label_idx]\n",
    "        correct[label_single] += res[label_idx].item()\n",
    "        total[label_single] += 1\n",
    "\n",
    "acc = sum(correct)/sum(total)\n",
    "print(f'acc : {acc}')"
   ]
  },
  {
   "cell_type": "markdown",
   "metadata": {},
   "source": [
    "## Resnet-18"
   ]
  },
  {
   "cell_type": "code",
   "execution_count": 8,
   "metadata": {},
   "outputs": [],
   "source": [
    "class WhaleDataset(Dataset):\n",
    "    def __init__(self, datafolder, datatype='train', df=None, transform = transforms.Compose([transforms.ToTensor()]), y=None):\n",
    "        self.datafolder = datafolder\n",
    "        self.datatype = datatype\n",
    "        self.y = y\n",
    "        if self.datatype == 'train':\n",
    "            self.df = df.values\n",
    "        self.image_files_list = [s for s in os.listdir(datafolder)]\n",
    "        self.transform = transform\n",
    "\n",
    "\n",
    "    def __len__(self):\n",
    "        return len(self.image_files_list)\n",
    "    \n",
    "    def __getitem__(self, idx):\n",
    "        if self.datatype == 'train':\n",
    "            img_name = os.path.join(self.datafolder, self.df[idx - 1][0])\n",
    "            label = self.y[idx - 1]\n",
    "            \n",
    "        elif self.datatype == 'test':\n",
    "            img_name = os.path.join(self.datafolder, self.image_files_list[idx - 1])\n",
    "            label = np.zeros((4571,))\n",
    "\n",
    "        image = Image.open(img_name).convert('RGB')\n",
    "        image = self.transform(image)\n",
    "        if self.datatype == 'train':\n",
    "            return image, label\n",
    "        elif self.datatype == 'test':\n",
    "            # so that the images will be in a correct order\n",
    "            return image, label, self.image_files_list[idx]\n",
    "\n",
    "data_transforms = transforms.Compose([\n",
    "                                      transforms.RandomResizedCrop(224),\n",
    "                                      transforms.ToTensor(),\n",
    "                                      transforms.Normalize(mean=[0.485, 0.456, 0.406],\n",
    "                                                             std=[0.229, 0.224, 0.225])\n",
    "    ])\n",
    "data_transforms_test = transforms.Compose([\n",
    "                                           transforms.RandomResizedCrop(224),\n",
    "                                           transforms.ToTensor(),\n",
    "                                           transforms.Normalize(mean=[0.485, 0.456, 0.406],\n",
    "                                                                 std=[0.229, 0.224, 0.225])\n",
    "])"
   ]
  },
  {
   "cell_type": "code",
   "execution_count": 10,
   "metadata": {},
   "outputs": [],
   "source": [
    "test_set = WhaleDataset(datafolder='./demotest/', datatype='train', df=test_df, transform=data_transforms_test,y = y_ts)\n",
    "num_workers = 0\n",
    "test_loader = torch.utils.data.DataLoader(test_set, batch_size=32, num_workers=num_workers)"
   ]
  },
  {
   "cell_type": "code",
   "execution_count": 16,
   "metadata": {},
   "outputs": [],
   "source": [
    "num_classes = 4571\n",
    "model_conv = models.resnet18(pretrained=True)\n",
    "num_ftrs = model_conv.fc.in_features \n",
    "model_conv.fc = nn.Linear(num_ftrs, num_classes) # change the NUM_CLASSES\n",
    "criterion = nn.BCEWithLogitsLoss()\n",
    "optimizer = optim.Adam(model_conv.parameters(), lr=0.01)\n",
    "exp_lr_scheduler = lr_scheduler.StepLR(optimizer, step_size=3, gamma=0.1)\n",
    "model_conv.load_state_dict(torch.load('./model/Res18.pth'))"
   ]
  },
  {
   "cell_type": "code",
   "execution_count": 18,
   "metadata": {},
   "outputs": [
    {
     "name": "stdout",
     "output_type": "stream",
     "text": [
      "acc : 0.4669950738916256\n"
     ]
    }
   ],
   "source": [
    "model_conv.cuda()\n",
    "total = list(0. for i in range(test_df.Id.nunique()))\n",
    "correct = list(0. for i in range(test_df.Id.nunique()))\n",
    "\n",
    "accuracy = []\n",
    "    \n",
    "# Compute the test result\n",
    "for batch_i, (data, target) in enumerate(test_loader):\n",
    "    data, target = data.cuda(), target.cuda()\n",
    "\n",
    "    optimizer.zero_grad()\n",
    "    output = model_conv(data)\n",
    "    predicted = torch.argmax(output, 1)\n",
    "\n",
    "    res = (predicted == torch.argmax(target, 1)).squeeze()\n",
    "\n",
    "    for label_idx in range(len(target)):\n",
    "\n",
    "        label_single = torch.argmax(target, 1)[label_idx]\n",
    "        correct[label_single] += res[label_idx].item()\n",
    "        total[label_single] += 1\n",
    "\n",
    "acc = sum(correct)/sum(total)\n",
    "print(f'acc : {acc}')"
   ]
  },
  {
   "cell_type": "markdown",
   "metadata": {},
   "source": [
    "## Feature extractor"
   ]
  },
  {
   "cell_type": "code",
   "execution_count": 35,
   "metadata": {},
   "outputs": [],
   "source": [
    "class Net_ext(nn.Module):\n",
    "    def __init__(self, num_classes):\n",
    "        super(Net_ext, self).__init__()\n",
    "        self.conv1 = nn.Conv2d(3, 32, 7, padding=1)\n",
    "        self.conv2_bn = nn.BatchNorm2d(32)\n",
    "        self.pool = nn.MaxPool2d(2, 2)\n",
    "        \n",
    "        self.conv2 = nn.Conv2d(32, 64, 3, padding=1)        \n",
    "        self.pool2 = nn.AvgPool2d(3, 3)\n",
    "        \n",
    "        self.fc1 = nn.Linear(64 * 4 * 4 * 16, 1024)\n",
    "        self.fc2 = nn.Linear(1024, num_classes)\n",
    "\n",
    "        self.dropout = nn.Dropout(0.5)        \n",
    "\n",
    "    def forward(self, x):\n",
    "        x = self.pool(F.relu(self.conv2_bn(self.conv1(x))))\n",
    "        x = self.pool2(F.relu(self.conv2(x)))\n",
    "        return x"
   ]
  },
  {
   "cell_type": "code",
   "execution_count": 36,
   "metadata": {},
   "outputs": [],
   "source": [
    "class autoencoder_ext(nn.Module):\n",
    "    def __init__(self):\n",
    "        super(autoencoder_ext, self).__init__()\n",
    "        self.encoder1 = nn.Sequential(\n",
    "            nn.Conv2d(3, 32, 7, padding=1),  \n",
    "            nn.ReLU(True))\n",
    "        self.pool1 = nn.MaxPool2d(2, stride=2, return_indices=True) \n",
    "        self.encoder2 = nn.Sequential(\n",
    "            nn.Conv2d(32, 64, 3, padding=1),  \n",
    "            nn.ReLU(True))\n",
    "        self.pool2 = nn.MaxPool2d(3, stride=1, return_indices=True)  \n",
    "        self.fc1 = nn.Linear(135424, 1024)\n",
    "        self.fc2 = nn.Linear(1024, 135424)\n",
    "        self.unpool2 = nn.MaxUnpool2d(3, stride=1)\n",
    "        self.unpool1 = nn.MaxUnpool2d(2, stride=2)\n",
    "        self.decoder2 = nn.Sequential(\n",
    "            nn.ConvTranspose2d(64, 32, 3, padding=1),  \n",
    "            nn.ReLU(True))\n",
    "        self.decoder1 = nn.Sequential(\n",
    "            nn.ConvTranspose2d(32, 3, 7, padding=1),  \n",
    "            nn.Sigmoid()\n",
    "        )\n",
    "\n",
    "    def forward(self, x):\n",
    "        x = self.encoder1(x)\n",
    "        (x, ind1) = self.pool1(x)\n",
    "        x = self.encoder2(x)\n",
    "        (x, ind2) = self.pool2(x)\n",
    "        \n",
    "        x = x.view(-1, 135424)\n",
    "        x = F.relu(self.fc1(x))\n",
    "        return x"
   ]
  },
  {
   "cell_type": "markdown",
   "metadata": {},
   "source": [
    "## CNN + knn"
   ]
  },
  {
   "cell_type": "code",
   "execution_count": 37,
   "metadata": {
    "scrolled": true
   },
   "outputs": [
    {
     "name": "stdout",
     "output_type": "stream",
     "text": [
      "exctrating data in batch0\n",
      "exctrating data in batch1\n",
      "exctrating data in batch2\n",
      "exctrating data in batch3\n",
      "exctrating data in batch4\n",
      "exctrating data in batch5\n",
      "exctrating data in batch6\n",
      "exctrating data in batch7\n",
      "exctrating data in batch8\n",
      "exctrating data in batch9\n",
      "exctrating data in batch10\n",
      "exctrating data in batch11\n",
      "exctrating data in batch12\n",
      "exctrating data in batch13\n",
      "exctrating data in batch14\n",
      "exctrating data in batch15\n",
      "exctrating data in batch16\n",
      "exctrating data in batch17\n",
      "exctrating data in batch18\n",
      "exctrating data in batch19\n",
      "exctrating data in batch20\n",
      "exctrating data in batch21\n",
      "exctrating data in batch22\n",
      "exctrating data in batch23\n",
      "exctrating data in batch24\n",
      "exctrating data in batch25\n",
      "exctrating data in batch26\n",
      "exctrating data in batch27\n",
      "exctrating data in batch28\n",
      "exctrating data in batch29\n"
     ]
    }
   ],
   "source": [
    "model_conv_ext = Net_ext(4571)\n",
    "test_ext_1 = []\n",
    "test_ext_2 = []\n",
    "cont = 0\n",
    "for batch_i, (data, target) in enumerate(test_loader):\n",
    "    print(f'exctrating data in batch{batch_i}')\n",
    "    cont += 1\n",
    "    if cont >= 30:\n",
    "        break\n",
    "    data = data.cuda()\n",
    "    model_conv_ext.cuda()\n",
    "    output = model_conv_ext(data)\n",
    "    for i in range(len(output)):\n",
    "        test_ext_1.append((output[i].cpu().detach().numpy(),target[i]))\n",
    "        test_ext_2.append((data[i].cpu().detach().numpy(),target[i]))"
   ]
  },
  {
   "cell_type": "markdown",
   "metadata": {},
   "source": [
    "### The IndexError here doesn't matter, since the demotest size is 1015 cannot be divided by batch size 32"
   ]
  },
  {
   "cell_type": "markdown",
   "metadata": {},
   "source": [
    "### Show the feature extracted"
   ]
  },
  {
   "cell_type": "code",
   "execution_count": 38,
   "metadata": {},
   "outputs": [
    {
     "name": "stderr",
     "output_type": "stream",
     "text": [
      "Clipping input data to the valid range for imshow with RGB data ([0..1] for floats or [0..255] for integers).\n"
     ]
    },
    {
     "data": {
      "text/plain": [
       "<matplotlib.image.AxesImage at 0x7fab63932208>"
      ]
     },
     "execution_count": 38,
     "metadata": {},
     "output_type": "execute_result"
    },
    {
     "data": {
      "image/png": "[encoded data removed]",
      "text/plain": [
       "<Figure size 432x288 with 1 Axes>"
      ]
     },
     "metadata": {
      "needs_background": "light"
     },
     "output_type": "display_data"
    }
   ],
   "source": [
    "i = 12\n",
    "x1 = test_ext_2[i][0]\n",
    "b = cv2.merge([x1[0,:,:],x1[1,:,:],x1[2,:,:]])\n",
    "plt.title('Cropped Original Image')\n",
    "plt.imshow(b) "
   ]
  },
  {
   "cell_type": "code",
   "execution_count": 41,
   "metadata": {},
   "outputs": [
    {
     "data": {
      "text/plain": [
       "<matplotlib.image.AxesImage at 0x7fab57b2dc50>"
      ]
     },
     "execution_count": 41,
     "metadata": {},
     "output_type": "execute_result"
    },
    {
     "data": {
      "image/png": "[encoded data removed]",
      "text/plain": [
       "<Figure size 432x288 with 1 Axes>"
      ]
     },
     "metadata": {
      "needs_background": "light"
     },
     "output_type": "display_data"
    }
   ],
   "source": [
    "x = test_ext_1[i][0]\n",
    "plt.title('Extracted Image Feature')\n",
    "plt.imshow(x[3,:,:]) "
   ]
  },
  {
   "cell_type": "code",
   "execution_count": 40,
   "metadata": {},
   "outputs": [
    {
     "data": {
      "image/png": "[encoded data removed]",
      "text/plain": [
       "<Figure size 432x288 with 16 Axes>"
      ]
     },
     "metadata": {
      "needs_background": "light"
     },
     "output_type": "display_data"
    }
   ],
   "source": [
    "f_all = test_ext_1[i][0]\n",
    "for i in range(16):\n",
    "    plt.subplot(4,4,i+1)\n",
    "    f_img = f_all[2*i,:,:]\n",
    "    plt.imshow(f_img)"
   ]
  },
  {
   "cell_type": "markdown",
   "metadata": {},
   "source": [
    "### Predict result"
   ]
  },
  {
   "cell_type": "code",
   "execution_count": 120,
   "metadata": {},
   "outputs": [],
   "source": [
    "x_ts = np.zeros((len(test_ext_1), 16384))\n",
    "y_n_ts = np.zeros(len(test_ext_1))\n",
    "for i in range(len(test_ext_1)):\n",
    "    x_ts[i, :]= test_ext_1[i][0].reshape(16384)\n",
    "    y_n_ts[i] = np.argmax(test_ext_1[i][1].cpu().detach().numpy(),axis=0)"
   ]
  },
  {
   "cell_type": "markdown",
   "metadata": {},
   "source": [
    "### The knn_conv model is more than 5GB, which is far too large to download and to predict. It will take serval hours to predict. So the code here is only to show how it works."
   ]
  },
  {
   "cell_type": "code",
   "execution_count": 56,
   "metadata": {},
   "outputs": [],
   "source": [
    "# knn_conv = joblib.load(\"./model/knn_conv.m\")\n",
    "# pred = knn_conv.predict(x_ts)\n",
    "# score = knn_conv.score(x_ts, y_n_ts)"
   ]
  },
  {
   "cell_type": "code",
   "execution_count": 57,
   "metadata": {},
   "outputs": [],
   "source": [
    "# i = 0\n",
    "# print(f'The prediction of {i}th image is {pred[i]}, which is {y_n_ts[i]}')\n",
    "# print(f'accuracy is {score}')"
   ]
  },
  {
   "cell_type": "markdown",
   "metadata": {},
   "source": [
    "## Auto-encoder + knn"
   ]
  },
  {
   "cell_type": "markdown",
   "metadata": {},
   "source": [
    "### The pre_trained model is too large to upload to git, which can be download by this link: https://drive.google.com/file/d/1ohorCjRBg-d9dTYZBEViW_nlnOI6ce0E/view?usp=sharing And please download it to ./model/ file."
   ]
  },
  {
   "cell_type": "code",
   "execution_count": 42,
   "metadata": {
    "scrolled": true
   },
   "outputs": [
    {
     "name": "stdout",
     "output_type": "stream",
     "text": [
      "exctrating data in batch0\n",
      "exctrating data in batch1\n",
      "exctrating data in batch2\n",
      "exctrating data in batch3\n",
      "exctrating data in batch4\n",
      "exctrating data in batch5\n",
      "exctrating data in batch6\n",
      "exctrating data in batch7\n",
      "exctrating data in batch8\n",
      "exctrating data in batch9\n",
      "exctrating data in batch10\n",
      "exctrating data in batch11\n",
      "exctrating data in batch12\n",
      "exctrating data in batch13\n",
      "exctrating data in batch14\n",
      "exctrating data in batch15\n",
      "exctrating data in batch16\n",
      "exctrating data in batch17\n",
      "exctrating data in batch18\n",
      "exctrating data in batch19\n",
      "exctrating data in batch20\n",
      "exctrating data in batch21\n",
      "exctrating data in batch22\n",
      "exctrating data in batch23\n",
      "exctrating data in batch24\n",
      "exctrating data in batch25\n",
      "exctrating data in batch26\n",
      "exctrating data in batch27\n",
      "exctrating data in batch28\n",
      "exctrating data in batch29\n"
     ]
    }
   ],
   "source": [
    "#load model\n",
    "model_ae_ext = autoencoder_ext().to(device)\n",
    "model_ae_ext.load_state_dict(torch.load('./model/conv_autoencoder_imporved.pth'))\n",
    "#extract features\n",
    "test_ext_1 = []\n",
    "test_ext_2 = []\n",
    "cont = 0\n",
    "for batch_i, (data, target) in enumerate(test_loader):\n",
    "    print(f'exctrating data in batch{batch_i}')\n",
    "    cont += 1\n",
    "    if cont >= 30:\n",
    "        break\n",
    "    data = data.cuda()\n",
    "    model_ae_ext.cuda()\n",
    "    output = model_ae_ext(data)\n",
    "    for i in range(len(output)):\n",
    "        test_ext_1.append((output[i].cpu().detach().numpy(),target[i]))\n",
    "        test_ext_2.append((data[i].cpu().detach().numpy(),target[i]))"
   ]
  },
  {
   "cell_type": "code",
   "execution_count": 43,
   "metadata": {},
   "outputs": [
    {
     "name": "stderr",
     "output_type": "stream",
     "text": [
      "Clipping input data to the valid range for imshow with RGB data ([0..1] for floats or [0..255] for integers).\n"
     ]
    },
    {
     "data": {
      "text/plain": [
       "<matplotlib.image.AxesImage at 0x7fab57addf98>"
      ]
     },
     "execution_count": 43,
     "metadata": {},
     "output_type": "execute_result"
    },
    {
     "data": {
      "image/png": "[encoded data removed]",
      "text/plain": [
       "<Figure size 432x288 with 1 Axes>"
      ]
     },
     "metadata": {
      "needs_background": "light"
     },
     "output_type": "display_data"
    }
   ],
   "source": [
    "i = 12\n",
    "x1 = test_ext_2[i][0]\n",
    "b = cv2.merge([x1[0,:,:],x1[1,:,:],x1[2,:,:]])\n",
    "plt.title('Cropped Original Image')\n",
    "plt.imshow(b) "
   ]
  },
  {
   "cell_type": "code",
   "execution_count": 44,
   "metadata": {},
   "outputs": [
    {
     "data": {
      "text/plain": [
       "<matplotlib.image.AxesImage at 0x7fab57a37240>"
      ]
     },
     "execution_count": 44,
     "metadata": {},
     "output_type": "execute_result"
    },
    {
     "data": {
      "image/png": "[encoded data removed]",
      "text/plain": [
       "<Figure size 432x288 with 1 Axes>"
      ]
     },
     "metadata": {
      "needs_background": "light"
     },
     "output_type": "display_data"
    }
   ],
   "source": [
    "x = test_ext_1[i][0].reshape(32,32)\n",
    "plt.title('Extracted Image Feature')\n",
    "plt.imshow(x) "
   ]
  },
  {
   "cell_type": "code",
   "execution_count": 46,
   "metadata": {},
   "outputs": [],
   "source": [
    "#reshape to classifier        \n",
    "x_ts = np.zeros((len(test_ext_1), 1024))\n",
    "y_n_ts = np.zeros((len(test_ext_1)))\n",
    "for i in range(len(test_ext_1)):\n",
    "    x_ts[i, :] = test_ext_1[i][0].reshape(1, 1024)\n",
    "    y_n_ts[i] = np.argmax(test_ext_1[i][1].cpu().detach().numpy(), axis = 0)"
   ]
  },
  {
   "cell_type": "markdown",
   "metadata": {},
   "source": [
    "### This model can be download by link: https://drive.google.com/file/d/1qOrfbHP4qA-XcM6-T_N5mkS5jYiJYnN-/view?usp=sharing to path ./model/"
   ]
  },
  {
   "cell_type": "code",
   "execution_count": 47,
   "metadata": {},
   "outputs": [],
   "source": [
    "knn_ae = joblib.load(\"./model/knn_ae.m\")\n",
    "pred = knn_ae.predict(x_ts)\n",
    "score = knn_ae.score(x_ts, y_n_ts)"
   ]
  },
  {
   "cell_type": "code",
   "execution_count": 48,
   "metadata": {},
   "outputs": [
    {
     "name": "stdout",
     "output_type": "stream",
     "text": [
      "The prediction of 0th image is 351.0, which is 22.0\n",
      "The accuracy is 0.3642241379310345\n"
     ]
    }
   ],
   "source": [
    "i = 0\n",
    "print(f'The prediction of {i}th image is {pred[i]}, which is {y_n_ts[i]}')\n",
    "print(f'The accuracy is {score}')"
   ]
  },
  {
   "cell_type": "markdown",
   "metadata": {},
   "source": [
    "## Auto-encoder + svm"
   ]
  },
  {
   "cell_type": "code",
   "execution_count": 53,
   "metadata": {},
   "outputs": [],
   "source": [
    "svm_ae = joblib.load(\"./model/svm_ae.m\")\n",
    "pred = svm_ae.predict(x_ts)\n",
    "score = svm_ae.score(x_ts, y_n_ts)"
   ]
  },
  {
   "cell_type": "code",
   "execution_count": 54,
   "metadata": {},
   "outputs": [
    {
     "name": "stdout",
     "output_type": "stream",
     "text": [
      "The prediction of 0th image is 2228.0, which is 22.0\n",
      "The accuracy is 0.018318965517241378\n"
     ]
    }
   ],
   "source": [
    "i = 0\n",
    "print(f'The prediction of {i}th image is {pred[i]}, which is {y_n_ts[i]}')\n",
    "print(f'The accuracy is {score}')"
   ]
  }
 ],
 "metadata": {
  "kernelspec": {
   "display_name": "Python 3",
   "language": "python",
   "name": "python3"
  },
  "language_info": {
   "codemirror_mode": {
    "name": "ipython",
    "version": 3
   },
   "file_extension": ".py",
   "mimetype": "text/x-python",
   "name": "python",
   "nbconvert_exporter": "python",
   "pygments_lexer": "ipython3",
   "version": "3.7.1"
  }
 },
 "nbformat": 4,
 "nbformat_minor": 2
}
